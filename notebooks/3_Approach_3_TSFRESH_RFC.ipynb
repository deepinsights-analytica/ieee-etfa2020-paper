{
 "cells": [
  {
   "cell_type": "markdown",
   "metadata": {},
   "source": [
    "##  Notebook 4 of 5\n",
    "# Machine Learning Based Unbalance Detection of a Rotating Shaft Using Vibration Data\n",
    "### Oliver Mey, Willi Neudeck, André Schneider and Olaf Enge-Rosenblatt\n",
    "##### Fraunhofer IIS/EAS, Fraunhofer Institute for Integrated Circuits, Division Engineering of Adaptive Systems, Dresden, Germany\n",
    "\n",
    "This Jupyter Notebook is part of a paper submission to the 25th IEEE International Conference on Emerging Technologies and Factory Automation, ETFA 2020. The notebook is the fourth in a series of five freely available notebooks. It contains Python code fragments which were used to get the classifications results described within the ETFA paper.\n",
    "\n",
    "*Last update: August 04, 2022*"
   ]
  },
  {
   "cell_type": "code",
   "execution_count": 1,
   "metadata": {},
   "outputs": [],
   "source": [
    "import numpy as np\n",
    "import pandas as pd\n",
    "import zipfile\n",
    "from matplotlib import pyplot as plt\n",
    "import scipy.stats\n",
    "import sklearn.ensemble\n",
    "import sklearn.model_selection\n",
    "import sklearn.metrics\n",
    "import sklearn.utils\n",
    "from joblib import dump, load"
   ]
  },
  {
   "cell_type": "markdown",
   "metadata": {},
   "source": [
    "## Reading Measurement Data\n",
    "\n",
    "The entire dataset is freely available via the Fraunhofer Fortadis data space (https://fordatis.fraunhofer.de/handle/fordatis/151.2). Anyone who is interested can checkout this data set and can carry out all the calculations described in the publication for themselves. Since the size of the entire dataset is about 2.7 GB, this notebook offers two options: a) A small subset can be used for a first trial. The ZIP file is part of this Github repository. b) The entire dataset is available via the URL as described below. In total, datasets for 4 different unbalance strengths were recorded (1D/1E ... 4D/4E) as well as one dataset with the unbalance holder without additional weight (i.e. without unbalance, 0D/0E). Each dataset is provided as a csv-file with five columns."
   ]
  },
  {
   "cell_type": "code",
   "execution_count": 2,
   "metadata": {},
   "outputs": [],
   "source": [
    "# Option a) local file contains a small subset of the entire dataset\n",
    "url = '../data/fraunhofer_eas_dataset_for_unbalance_detection_v1.zip'\n",
    "\n",
    "# Option b) the entire dataset can be directly downloaded via public Fraunhofer Fortadis dataspace\n",
    "#url = 'https://fordatis.fraunhofer.de/bitstream/fordatis/151.2/1/fraunhofer_eas_dataset_for_unbalance_detection_v1.zip'\n",
    "\n",
    "# Option c) selected pre-trained models can be found in the directory model/reference\n",
    "use_reference_models = True\n",
    "model_path = '../models/reference'\n",
    "data_path = '../data'\n",
    "\n",
    "# Option d) all models will be trained again\n",
    "#use_reference_models = False\n",
    "#model_path = '../models'\n",
    "#data_path = '../data'"
   ]
  },
  {
   "cell_type": "code",
   "execution_count": 3,
   "metadata": {},
   "outputs": [],
   "source": [
    "with zipfile.ZipFile(path, 'r') as f:\n",
    "    with f.open('0D.csv', 'r') as c:\n",
    "        data0D = pd.read_csv(c)\n",
    "    with f.open('0E.csv', 'r') as c:\n",
    "        data0E = pd.read_csv(c)\n",
    "    with f.open('1D.csv', 'r') as c:\n",
    "        data1D = pd.read_csv(c)\n",
    "    with f.open('1E.csv', 'r') as c:\n",
    "        data1E = pd.read_csv(c)\n",
    "    with f.open('2D.csv', 'r') as c:\n",
    "        data2D = pd.read_csv(c)\n",
    "    with f.open('2E.csv', 'r') as c:\n",
    "        data2E = pd.read_csv(c)\n",
    "    with f.open('3D.csv', 'r') as c:\n",
    "        data3D = pd.read_csv(c)\n",
    "    with f.open('3E.csv', 'r') as c:\n",
    "        data3E = pd.read_csv(c)\n",
    "    with f.open('4D.csv', 'r') as c:\n",
    "        data4D = pd.read_csv(c)\n",
    "    with f.open('4E.csv', 'r') as c:\n",
    "        data4E = pd.read_csv(c)"
   ]
  },
  {
   "cell_type": "markdown",
   "metadata": {},
   "source": [
    "At the moment only the first vibration sensor **Vibration_1** is used for the analysis. All four data streams may need to be included in the future."
   ]
  },
  {
   "cell_type": "code",
   "execution_count": 4,
   "metadata": {},
   "outputs": [],
   "source": [
    "skip = 50000\n",
    "window = 4096"
   ]
  },
  {
   "cell_type": "code",
   "execution_count": 5,
   "metadata": {},
   "outputs": [],
   "source": [
    "def reshape_features(data, column, f):\n",
    "    features = data[column].values\n",
    "    features = features[:(len(features)//window)*window]\n",
    "    features = np.reshape(features, (-1,window), order='C')\n",
    "    return f(features, axis=1)\n",
    "\n",
    "def calc_features(url, *files, columns=range(1,4)):\n",
    "    \"\"\"\n",
    "    Method that calculates the minimal set of features. Sensors are selected using the parameter 'columns'\n",
    "    \"\"\"\n",
    "    features = []\n",
    "    for file in files:\n",
    "        with url.open(file, 'r') as f:\n",
    "            data = pd.read_csv(f)\n",
    "            data = data.iloc[skip:,:]\n",
    "            data = np.stack(\n",
    "                [reshape_features(data, 'Measured_RPM', np.mean)]\n",
    "                + [reshape_features(data, 'Vibration_%d' % i, np.std)\n",
    "                   for i in columns]\n",
    "                + [reshape_features(data, 'Vibration_%d' % i, scipy.stats.kurtosis)\n",
    "                   for i in columns],\n",
    "                axis=1)\n",
    "            features.append(data)\n",
    "    return np.concatenate(features, axis=0)\n",
    "\n",
    "def get_features2(url, file_good, file_bad):\n",
    "    with zipfile.ZipFile(url, 'r') as f:\n",
    "        X_good = calc_features(f, file_good)\n",
    "        X_bad = calc_features(f, file_bad)\n",
    "    X = np.concatenate([X_good, X_bad], axis=0)\n",
    "    y = np.concatenate([np.zeros(X_good.shape[0]), np.ones(X_bad.shape[0])], axis=0)\n",
    "    return X,y\n",
    "\n",
    "def get_features1(url, file, columns=range(1,4), label=1):\n",
    "    with zipfile.ZipFile(url, 'r') as f:\n",
    "        X = calc_features(f, file, columns=columns)\n",
    "    y = label * np.ones(X.shape[0])\n",
    "    return X,y\n",
    "\n",
    "def get_features(url, group='D', columns=range(1,4)):\n",
    "    with zipfile.ZipFile(url, 'r') as f:\n",
    "        good = calc_features(f, '0' + group + '.csv', columns=columns)\n",
    "        bad1 = calc_features(f, '1' + group + '.csv', columns=columns)\n",
    "        bad2 = calc_features(f, '2' + group + '.csv', columns=columns)\n",
    "        bad3 = calc_features(f, '3' + group + '.csv', columns=columns)\n",
    "        bad4 = calc_features(f, '4' + group + '.csv', columns=columns)\n",
    "    X = np.concatenate([good, bad1, bad2, bad3, bad4], axis=0)\n",
    "    length_good = good.shape[0]\n",
    "    length_bad = bad1.shape[0] + bad2.shape[0] + bad3.shape[0] + bad4.shape[0]\n",
    "    y = np.concatenate([np.zeros(length_good), np.ones(length_bad)], axis=0)\n",
    "    return X,y"
   ]
  },
  {
   "cell_type": "markdown",
   "metadata": {},
   "source": [
    "## Training of a Random Forest Classifier Using a Minimal Set of Features\n",
    "### Using All 3 Sensors"
   ]
  },
  {
   "cell_type": "code",
   "execution_count": 6,
   "metadata": {},
   "outputs": [],
   "source": [
    "X_minimal,y_minimal = get_features(path)"
   ]
  },
  {
   "cell_type": "code",
   "execution_count": 7,
   "metadata": {},
   "outputs": [
    {
     "data": {
      "text/plain": [
       "((32166, 7), (32166,))"
      ]
     },
     "execution_count": 7,
     "metadata": {},
     "output_type": "execute_result"
    }
   ],
   "source": [
    "X_minimal.shape, y_minimal.shape"
   ]
  },
  {
   "cell_type": "code",
   "execution_count": 8,
   "metadata": {},
   "outputs": [],
   "source": [
    "model_minimal = sklearn.model_selection.GridSearchCV(\n",
    "    sklearn.ensemble.RandomForestClassifier(),\n",
    "    {'n_estimators': [30, 100, 300],\n",
    "     'max_depth': [2, 5, 10, 20],\n",
    "     'min_samples_leaf': [1, 10, 100]},\n",
    "    scoring='balanced_accuracy')"
   ]
  },
  {
   "cell_type": "code",
   "execution_count": 9,
   "metadata": {},
   "outputs": [
    {
     "data": {
      "text/plain": [
       "GridSearchCV(estimator=RandomForestClassifier(),\n",
       "             param_grid={'max_depth': [2, 5, 10, 20],\n",
       "                         'min_samples_leaf': [1, 10, 100],\n",
       "                         'n_estimators': [30, 100, 300]},\n",
       "             scoring='balanced_accuracy')"
      ]
     },
     "execution_count": 9,
     "metadata": {},
     "output_type": "execute_result"
    }
   ],
   "source": [
    "model_minimal.fit(X_minimal,y_minimal)"
   ]
  },
  {
   "cell_type": "code",
   "execution_count": 10,
   "metadata": {},
   "outputs": [
    {
     "data": {
      "text/plain": [
       "0.90221793067914"
      ]
     },
     "execution_count": 10,
     "metadata": {},
     "output_type": "execute_result"
    }
   ],
   "source": [
    "model_minimal.best_score_"
   ]
  },
  {
   "cell_type": "code",
   "execution_count": 11,
   "metadata": {},
   "outputs": [
    {
     "data": {
      "text/plain": [
       "{'max_depth': 20, 'min_samples_leaf': 1, 'n_estimators': 300}"
      ]
     },
     "execution_count": 11,
     "metadata": {},
     "output_type": "execute_result"
    }
   ],
   "source": [
    "model_minimal.best_params_"
   ]
  },
  {
   "cell_type": "code",
   "execution_count": 13,
   "metadata": {},
   "outputs": [
    {
     "name": "stdout",
     "output_type": "stream",
     "text": [
      "0E.csv 0.9359281437125748\n",
      "1E.csv 0.4500896592946802\n",
      "2E.csv 0.7225883762732175\n",
      "3E.csv 0.9940191387559809\n",
      "4E.csv 1.0\n"
     ]
    }
   ],
   "source": [
    "accuracies_minimal = []\n",
    "for eval_file in ('0E.csv', '1E.csv', '2E.csv', '3E.csv', '4E.csv'):\n",
    "    if eval_file == '0E.csv':\n",
    "        X,y = get_features1(path, eval_file,label=0)\n",
    "    else:\n",
    "        X,y = get_features1(path, eval_file,label=1)\n",
    "    score = sklearn.metrics.accuracy_score(y, model_minimal.predict(X))\n",
    "    print(eval_file, score)\n",
    "    accuracies_minimal.append(score)"
   ]
  },
  {
   "cell_type": "code",
   "execution_count": 14,
   "metadata": {},
   "outputs": [
    {
     "data": {
      "image/png": "[encoded data removed]",
      "text/plain": [
       "<Figure size 360x360 with 1 Axes>"
      ]
     },
     "metadata": {
      "needs_background": "light"
     },
     "output_type": "display_data"
    }
   ],
   "source": [
    "unbalances = np.array([0, 4.59e-5, 6.07e-5,7.55e-5,1.521e-4])\n",
    "fig = plt.figure(figsize=(5,5))\n",
    "ax1 = plt.subplot(111, title=\"Unbalance Classification Trained with all\\nUnbalances\")\n",
    "ax1.plot(1e6*unbalances, accuracies_minimal, ls=\"--\", marker=\"+\")\n",
    "plt.ylabel(\"Accuracy on Evaluation Dataset\")\n",
    "plt.xlabel(\"Unbalance Factor [mm g]\")\n",
    "plt.tight_layout()\n",
    "plt.show()"
   ]
  },
  {
   "cell_type": "markdown",
   "metadata": {},
   "source": [
    "### Only first sensor a1"
   ]
  },
  {
   "cell_type": "code",
   "execution_count": 15,
   "metadata": {},
   "outputs": [],
   "source": [
    "X_minimal_a1,y_minimal_a1 = get_features(path, columns=range(1,2))"
   ]
  },
  {
   "cell_type": "code",
   "execution_count": 16,
   "metadata": {},
   "outputs": [
    {
     "data": {
      "text/plain": [
       "((32166, 7), (32166,))"
      ]
     },
     "execution_count": 16,
     "metadata": {},
     "output_type": "execute_result"
    }
   ],
   "source": [
    "X_minimal.shape, y_minimal.shape"
   ]
  },
  {
   "cell_type": "code",
   "execution_count": 17,
   "metadata": {},
   "outputs": [],
   "source": [
    "model_minimal_a1 = sklearn.model_selection.GridSearchCV(\n",
    "    sklearn.ensemble.RandomForestClassifier(),\n",
    "    {'n_estimators': [30, 100, 300],\n",
    "     'max_depth': [2, 5, 10, 20],\n",
    "     'min_samples_leaf': [1, 10, 100]},\n",
    "    scoring='balanced_accuracy')"
   ]
  },
  {
   "cell_type": "code",
   "execution_count": 18,
   "metadata": {},
   "outputs": [
    {
     "data": {
      "text/plain": [
       "GridSearchCV(estimator=RandomForestClassifier(),\n",
       "             param_grid={'max_depth': [2, 5, 10, 20],\n",
       "                         'min_samples_leaf': [1, 10, 100],\n",
       "                         'n_estimators': [30, 100, 300]},\n",
       "             scoring='balanced_accuracy')"
      ]
     },
     "execution_count": 18,
     "metadata": {},
     "output_type": "execute_result"
    }
   ],
   "source": [
    "model_minimal_a1.fit(X_minimal_a1,y_minimal_a1)"
   ]
  },
  {
   "cell_type": "code",
   "execution_count": 19,
   "metadata": {},
   "outputs": [
    {
     "data": {
      "text/plain": [
       "0.8248427596196333"
      ]
     },
     "execution_count": 19,
     "metadata": {},
     "output_type": "execute_result"
    }
   ],
   "source": [
    "model_minimal_a1.best_score_"
   ]
  },
  {
   "cell_type": "code",
   "execution_count": 20,
   "metadata": {},
   "outputs": [
    {
     "data": {
      "text/plain": [
       "{'max_depth': 20, 'min_samples_leaf': 1, 'n_estimators': 300}"
      ]
     },
     "execution_count": 20,
     "metadata": {},
     "output_type": "execute_result"
    }
   ],
   "source": [
    "model_minimal_a1.best_params_"
   ]
  },
  {
   "cell_type": "code",
   "execution_count": 21,
   "metadata": {},
   "outputs": [
    {
     "name": "stdout",
     "output_type": "stream",
     "text": [
      "0E.csv 0.8215568862275449\n",
      "1E.csv 0.5797967722653915\n",
      "2E.csv 0.7872977831036548\n",
      "3E.csv 0.6830143540669856\n",
      "4E.csv 1.0\n"
     ]
    }
   ],
   "source": [
    "accuracies_minimal_a1 = []\n",
    "for eval_file in ('0E.csv', '1E.csv', '2E.csv', '3E.csv', '4E.csv'):\n",
    "    if eval_file == '0E.csv':\n",
    "        X,y = get_features1(path, eval_file, columns=range(1,2), label=0)\n",
    "    else:\n",
    "        X,y = get_features1(path, eval_file, columns=range(1,2), label=1)\n",
    "    score = sklearn.metrics.accuracy_score(y, model_minimal_a1.predict(X))\n",
    "    print(eval_file, score)\n",
    "    accuracies_minimal_a1.append(score)"
   ]
  },
  {
   "cell_type": "code",
   "execution_count": 22,
   "metadata": {},
   "outputs": [
    {
     "data": {
      "image/png": "[encoded data removed]",
      "text/plain": [
       "<Figure size 360x360 with 1 Axes>"
      ]
     },
     "metadata": {
      "needs_background": "light"
     },
     "output_type": "display_data"
    }
   ],
   "source": [
    "unbalances = np.array([0, 4.59e-5, 6.07e-5,7.55e-5,1.521e-4])\n",
    "fig = plt.figure(figsize=(5,5))\n",
    "ax1 = plt.subplot(111, title=\"Unbalance Classification Trained with all\\nUnbalances\")\n",
    "ax1.plot(1e6*unbalances, accuracies_minimal, ls=\"--\", marker=\"+\", label=\"all sensors\")\n",
    "ax1.plot(1e6*unbalances, accuracies_minimal_a1, ls=\"--\", marker=\"+\", label=\"Vibration_1\")\n",
    "plt.ylabel(\"Accuracy on Evaluation Dataset\")\n",
    "plt.xlabel(\"Unbalance Factor [mm g]\")\n",
    "plt.legend()\n",
    "plt.tight_layout()\n",
    "plt.show()"
   ]
  },
  {
   "cell_type": "markdown",
   "metadata": {},
   "source": [
    "## Training of a Random Forest Classifier Using TSFRESH Features"
   ]
  },
  {
   "cell_type": "code",
   "execution_count": 87,
   "metadata": {},
   "outputs": [],
   "source": [
    "X_0D = np.load(data_path + \"/0D\" + \"/a1_tsfresh.npy\")[:,:,0]\n",
    "X_1D = np.load(data_path + \"/1D\" + \"/a1_tsfresh.npy\")[:,:,0]\n",
    "X_2D = np.load(data_path + \"/2D\" + \"/a1_tsfresh.npy\")[:,:,0]\n",
    "X_3D = np.load(data_path + \"/3D\" + \"/a1_tsfresh.npy\")[:,:,0]\n",
    "X_4D = np.load(data_path + \"/4D\" + \"/a1_tsfresh.npy\")[:,:,0]\n",
    "X_0E = np.load(data_path + \"/0E\" + \"/a1_tsfresh.npy\")[:,:,0]\n",
    "X_1E = np.load(data_path + \"/1E\" + \"/a1_tsfresh.npy\")[:,:,0]\n",
    "X_2E = np.load(data_path + \"/2E\" + \"/a1_tsfresh.npy\")[:,:,0]\n",
    "X_3E = np.load(data_path + \"/3E\" + \"/a1_tsfresh.npy\")[:,:,0]\n",
    "X_4E = np.load(data_path + \"/4E\" + \"/a1_tsfresh.npy\")[:,:,0]"
   ]
  },
  {
   "cell_type": "code",
   "execution_count": 88,
   "metadata": {},
   "outputs": [],
   "source": [
    "X = np.concatenate([X_0D, X_1D, X_2D, X_3D, X_4D])\n",
    "y = np.concatenate([np.zeros(X_0D.shape[0]), np.ones(X.shape[0]-X_0D.shape[0])])\n",
    "X_val = np.concatenate([X_0E, X_1E, X_2E, X_3E, X_4E])\n",
    "y_val = np.concatenate([np.zeros(X_0E.shape[0]), np.ones(X_val.shape[0]-X_0E.shape[0])])"
   ]
  },
  {
   "cell_type": "code",
   "execution_count": 49,
   "metadata": {},
   "outputs": [],
   "source": [
    "def train_model(X, y, gridsearch=False):\n",
    "    if gridsearch:\n",
    "        model = sklearn.model_selection.GridSearchCV(\n",
    "            sklearn.ensemble.RandomForestClassifier(),\n",
    "            {'n_estimators': [30, 100, 300],\n",
    "             'max_depth': [2, 5, 10, 20],\n",
    "             'min_samples_leaf': [1, 10, 100]},\n",
    "            scoring='balanced_accuracy', verbose=100)\n",
    "        print(model.best_score_)\n",
    "        print(model.best_params_)\n",
    "    else:\n",
    "        model = sklearn.ensemble.RandomForestClassifier(max_depth=20, \n",
    "                    min_samples_leaf=1, n_estimators=300)\n",
    "        model.fit(X, y)\n",
    "    return model"
   ]
  },
  {
   "cell_type": "code",
   "execution_count": 50,
   "metadata": {},
   "outputs": [],
   "source": [
    "if not use_reference_models:\n",
    "    model = train_model(X, y)\n",
    "    dump(model_tsfresh, f'{model_path}/tsfresh_rfc.joblib') "
   ]
  },
  {
   "cell_type": "code",
   "execution_count": 99,
   "metadata": {},
   "outputs": [
    {
     "name": "stdout",
     "output_type": "stream",
     "text": [
      "0.941619810982175\n"
     ]
    },
    {
     "data": {
      "text/plain": [
       "[<matplotlib.lines.Line2D at 0x7f45276ec9e8>]"
      ]
     },
     "execution_count": 99,
     "metadata": {},
     "output_type": "execute_result"
    },
    {
     "data": {
      "image/png": "[encoded data removed]",
      "text/plain": [
       "<Figure size 432x288 with 1 Axes>"
      ]
     },
     "metadata": {
      "needs_background": "light"
     },
     "output_type": "display_data"
    }
   ],
   "source": [
    "model = load(f'{model_path}/tsfresh_rfc.joblib')\n",
    "y_predict = model.predict(X_val)\n",
    "score = sklearn.metrics.accuracy_score(y_val, y_predict)\n",
    "print(score)\n",
    "plt.plot(y_predict)"
   ]
  },
  {
   "cell_type": "code",
   "execution_count": 92,
   "metadata": {},
   "outputs": [],
   "source": [
    "accuracies = []\n",
    "accuracies.append(sklearn.metrics.accuracy_score(np.zeros(X_0E.shape[0]), model.predict(X_0E)))\n",
    "accuracies.append(sklearn.metrics.accuracy_score(np.ones(X_1E.shape[0]), model.predict(X_1E)))\n",
    "accuracies.append(sklearn.metrics.accuracy_score(np.ones(X_2E.shape[0]), model.predict(X_2E)))\n",
    "accuracies.append(sklearn.metrics.accuracy_score(np.ones(X_3E.shape[0]), model.predict(X_3E)))\n",
    "accuracies.append(sklearn.metrics.accuracy_score(np.ones(X_4E.shape[0]), model.predict(X_4E)))"
   ]
  },
  {
   "cell_type": "code",
   "execution_count": 93,
   "metadata": {},
   "outputs": [
    {
     "name": "stdout",
     "output_type": "stream",
     "text": [
      "[0.9652694610778443, 0.8081291093843395, 0.9364889155182744, 0.9982057416267942, 1.0]\n"
     ]
    }
   ],
   "source": [
    "print(accuracies)"
   ]
  },
  {
   "cell_type": "markdown",
   "metadata": {},
   "source": [
    "### Plotting Classification Accuracies"
   ]
  },
  {
   "cell_type": "code",
   "execution_count": 94,
   "metadata": {},
   "outputs": [
    {
     "data": {
      "image/png": "[encoded data removed]",
      "text/plain": [
       "<Figure size 360x360 with 1 Axes>"
      ]
     },
     "metadata": {
      "needs_background": "light"
     },
     "output_type": "display_data"
    }
   ],
   "source": [
    "unbalances = np.array([0, 4.59e-5, 6.07e-5,7.55e-5,1.521e-4])\n",
    "accuracies_minimal = [0.9455089820359281, 0.44411237298266587, 0.725584182144997, 0.9958133971291866, 1.0]\n",
    "accuracies_minimal_a1 = [0.822754491017964, 0.5786013150029886, 0.7837028160575195, 0.7344497607655502, 1.0]\n",
    "fig = plt.figure(figsize=(5,5))\n",
    "ax1 = plt.subplot(111, title=\"Unbalance Classification Trained\\nwith all Unbalances\")\n",
    "ax1.plot(1e6*unbalances, accuracies_minimal, ls=\"--\", marker=\"+\", \n",
    "         label=\"Minimal, all sensors,\\nmean: 82.2%\")\n",
    "ax1.plot(1e6*unbalances, accuracies_minimal_a1, ls=\"--\", marker=\"+\", \n",
    "         label=\"Minimal, Vibration_1,\\nmean: 78.4%\")\n",
    "ax1.plot(1e6*unbalances, accuracies, ls=\"--\", marker=\"+\", \n",
    "         label=\"tsfresh: Vibration_1,\\nmean: 93.2%\")\n",
    "plt.ylabel(\"Accuracy on Evaluation Dataset\")\n",
    "plt.xlabel(\"Unbalance Factor [mm g]\")\n",
    "plt.legend(loc=\"lower right\")\n",
    "plt.tight_layout()\n",
    "fig.savefig(\"../figures/Fig.6_h.png\", dpi=200)\n",
    "plt.show()"
   ]
  },
  {
   "cell_type": "markdown",
   "metadata": {},
   "source": [
    "## Rotation Speed Dependency"
   ]
  },
  {
   "cell_type": "code",
   "execution_count": 100,
   "metadata": {},
   "outputs": [],
   "source": [
    "model_minimal_a1 = load(f'{model_path}/tsfresh_rfc.joblib')\n",
    "model_minimal_all = load(f'{model_path}/tsfresh_rfc.joblib')\n",
    "model_tsfresh = model"
   ]
  },
  {
   "cell_type": "code",
   "execution_count": 101,
   "metadata": {},
   "outputs": [],
   "source": [
    "X_minimal_a1_eval,y_minimal_a1_eval = get_features(url, group='E', columns=range(1,2))"
   ]
  },
  {
   "cell_type": "code",
   "execution_count": 102,
   "metadata": {},
   "outputs": [],
   "source": [
    "X_minimal_all_eval,y_minimal_all_eval = get_features(url, group='E')"
   ]
  },
  {
   "cell_type": "code",
   "execution_count": 103,
   "metadata": {},
   "outputs": [],
   "source": [
    "from scipy.stats import mode\n",
    "\n",
    "def v2rpm(v):\n",
    "    return 212*v + 209\n",
    "\n",
    "# 3s ramp up\n",
    "fade_in = np.arange(0.0, 4.0, 4.0/(3*4096))\n",
    "# complete voltage sweep\n",
    "measurement_circle = np.repeat(np.arange(4.0, 8.2, 0.1), 4096*20.0)\n",
    "# measurement: start-up + 2 voltage sweeps\n",
    "measurement = np.concatenate([fade_in, np.tile(measurement_circle,3)]) \n",
    "# select the data as actually used\n",
    "measurement1 = measurement[50000:]\n",
    "measurement1 = measurement1[:int(len(measurement1)/4096)*4096].reshape(-1,4096)\n",
    "voltages_measurement = mode(measurement1, axis=1)[0]\n",
    "voltages_used = np.concatenate([voltages_measurement[:len(X_0E)],\n",
    "                                voltages_measurement[:len(X_1E)],\n",
    "                                voltages_measurement[:len(X_2E)],\n",
    "                                voltages_measurement[:len(X_3E)],\n",
    "                                voltages_measurement[:len(X_4E)]])\n",
    "rpms_used = v2rpm(voltages_used)"
   ]
  },
  {
   "cell_type": "code",
   "execution_count": null,
   "metadata": {},
   "outputs": [],
   "source": [
    "rpm_borders = np.arange(1050, 1975, 25)\n",
    "errors_per_rpm_range_minimal_a1 = []\n",
    "errors_per_rpm_range_minimal_all = []\n",
    "errors_per_rpm_range_tsfresh_a1 = []\n",
    "for i in range(len(rpm_borders)-1):\n",
    "    eval_inds = np.where((rpms_used>rpm_borders[i])&(rpms_used<rpm_borders[i+1]))[0]\n",
    "    errors_per_rpm_range_minimal_a1.append(\n",
    "        1-np.mean(np.abs(np.int32(model_minimal_a1.predict(X_minimal_a1_eval[eval_inds])>0.5).reshape(-1)-y_minimal_a1_eval[eval_inds])))\n",
    "    errors_per_rpm_range_minimal_all.append(\n",
    "        1-np.mean(np.abs(np.int32(model_minimal_all.predict(X_minimal_all_eval[eval_inds])>0.5).reshape(-1)-y_minimal_all_eval[eval_inds])))\n",
    "    errors_per_rpm_range_tsfresh_a1.append(\n",
    "        1-np.mean(np.abs(np.int32(model_tsfresh.predict(X_eval[eval_inds,:,0])>0.5).reshape(-1)-y_eval[eval_inds])))"
   ]
  },
  {
   "cell_type": "code",
   "execution_count": 119,
   "metadata": {},
   "outputs": [
    {
     "data": {
      "image/png": "[encoded data removed]",
      "text/plain": [
       "<Figure size 360x360 with 1 Axes>"
      ]
     },
     "metadata": {
      "needs_background": "light"
     },
     "output_type": "display_data"
    }
   ],
   "source": [
    "fig = plt.figure(figsize=(5,5))\n",
    "ax1 = plt.subplot(111, title=\"Unbalance Classification Trained\\nwith all Unbalances\")\n",
    "plt.plot(np.array(rpm_borders[:-1])+25, errors_per_rpm_range_minimal_all, marker=\"+\", ls=\"--\",\n",
    "         label=\"Minimal, all sensors,  mean: 82.2%\")\n",
    "plt.plot(np.array(rpm_borders[:-1])+25, errors_per_rpm_range_minimal_a1, marker=\"+\", ls=\"--\",\n",
    "         label=\"Minimal, Vibration_1, mean: 78.4%\")\n",
    "plt.plot(np.array(rpm_borders[:-1])+25, errors_per_rpm_range_tsfresh_a1, marker=\"+\", ls=\"--\",\n",
    "         label=\"tsfresh: Vibration_1, mean: 93.2%\")\n",
    "plt.legend()\n",
    "plt.tight_layout()\n",
    "plt.show()"
   ]
  },
  {
   "cell_type": "markdown",
   "metadata": {},
   "source": [
    "## Training of a Neural Network Using TSFRESH Features"
   ]
  },
  {
   "cell_type": "code",
   "execution_count": 12,
   "metadata": {},
   "outputs": [],
   "source": [
    "from sklearn.model_selection import train_test_split\n",
    "train_test_ratio = 0.9\n",
    "X_train, X_test, y_train, y_test = train_test_split(X,y, test_size = 1-train_test_ratio, random_state = 0)"
   ]
  },
  {
   "cell_type": "code",
   "execution_count": 15,
   "metadata": {},
   "outputs": [],
   "source": [
    "from sklearn.preprocessing import RobustScaler\n",
    "scaler = RobustScaler(quantile_range=(5,95)).fit(X_train)\n",
    "X_train_sc = scaler.transform(X_train)\n",
    "X_test_sc = scaler.transform(X_test)\n",
    "X_val_sc = scaler.transform(X_val)"
   ]
  },
  {
   "cell_type": "code",
   "execution_count": 84,
   "metadata": {},
   "outputs": [],
   "source": [
    "from tensorflow.keras.layers import LeakyReLU,Dense,Input,Dropout\n",
    "from tensorflow.keras.models import Model, load_model\n",
    "from tensorflow.keras.optimizers import Adam\n",
    "from tensorflow.keras.callbacks import ModelCheckpoint\n",
    "\n",
    "if not use_reference_models:\n",
    "    weight_for_0 = len(y_train)/(2*len(y_train[y_train==0]))\n",
    "    weight_for_1 = len(y_train)/(2*len(y_train[y_train==1]))\n",
    "    class_weight = {0: weight_for_0, 1: weight_for_1}\n",
    "\n",
    "    n_layers=2\n",
    "    dropout_rate = 0.4\n",
    "\n",
    "    X_in = Input(shape=(X_train_sc.shape[1],))\n",
    "    x = X_in\n",
    "    for j in range(n_layers):\n",
    "        x = Dropout(rate=dropout_rate)(x)\n",
    "        x = Dense(units = 1024, activation=\"linear\")(x)\n",
    "        x = LeakyReLU(alpha=0.05)(x)\n",
    "    X_out = Dense(units = 1, activation = 'sigmoid')(x)\n",
    "    model = Model(X_in, X_out)\n",
    "\n",
    "    best_model_filepath = f'{model_path}/tsfresh_nn.h5'\n",
    "    checkpoint = ModelCheckpoint(best_model_filepath, monitor='val_loss', verbose=1, \n",
    "                                 save_best_only=True, mode='min')\n",
    "    model.compile(optimizer = Adam(lr=0.0005), loss = 'binary_crossentropy', \n",
    "                  metrics = ['accuracy'])\n",
    "    model.summary()\n",
    "\n",
    "    model.fit(X_train_sc, y_train, epochs = 100, batch_size = 128,\n",
    "              validation_data=(X_test_sc, y_test), callbacks=[checkpoint], \n",
    "              class_weight=class_weight)"
   ]
  },
  {
   "cell_type": "code",
   "execution_count": 85,
   "metadata": {},
   "outputs": [],
   "source": [
    "best_model_filepath = f'{model_path}/tsfresh_nn.h5'\n",
    "model = load_model(best_model_filepath)"
   ]
  },
  {
   "cell_type": "code",
   "execution_count": 89,
   "metadata": {},
   "outputs": [
    {
     "name": "stdout",
     "output_type": "stream",
     "text": [
      "8359/8359 [==============================] - 1s 89us/sample - loss: 0.9649 - accuracy: 0.8158\n"
     ]
    },
    {
     "data": {
      "text/plain": [
       "[0.9648595222610724, 0.8157674]"
      ]
     },
     "execution_count": 89,
     "metadata": {},
     "output_type": "execute_result"
    }
   ],
   "source": [
    "model.evaluate(X_val_sc, y_val)"
   ]
  },
  {
   "cell_type": "code",
   "execution_count": 90,
   "metadata": {},
   "outputs": [
    {
     "data": {
      "text/plain": [
       "[<matplotlib.lines.Line2D at 0x7f452789a860>]"
      ]
     },
     "execution_count": 90,
     "metadata": {},
     "output_type": "execute_result"
    },
    {
     "data": {
      "image/png": "[encoded data removed]",
      "text/plain": [
       "<Figure size 432x288 with 1 Axes>"
      ]
     },
     "metadata": {
      "needs_background": "light"
     },
     "output_type": "display_data"
    }
   ],
   "source": [
    "plt.plot(model.predict(X_val_sc))"
   ]
  },
  {
   "cell_type": "markdown",
   "metadata": {},
   "source": [
    "--> NN classifies worse than Random Forest"
   ]
  },
  {
   "cell_type": "markdown",
   "metadata": {},
   "source": [
    "## Pairwise Classification"
   ]
  },
  {
   "cell_type": "code",
   "execution_count": 24,
   "metadata": {},
   "outputs": [],
   "source": [
    "X_a1 = []\n",
    "y_a1 = []\n",
    "X_a1_val = []\n",
    "y_a1_val = []\n",
    "for file in ('0D.csv', '1D.csv', '2D.csv', '3D.csv', '4D.csv'):\n",
    "    if file == '0D.csv':\n",
    "        X_,y_ = get_features1(path, file, columns=range(1,2), label=0)\n",
    "    else:\n",
    "        X_,y_ = get_features1(path, file, columns=range(1,2), label=1)\n",
    "    X_a1.append(X_)\n",
    "    y_a1.append(y_)\n",
    "        \n",
    "for file in ('0E.csv', '1E.csv', '2E.csv', '3E.csv', '4E.csv'):\n",
    "    if file == '0E.csv':\n",
    "        X_,y_ = get_features1(path, file, columns=range(1,2), label=0)\n",
    "    else:\n",
    "        X_,y_ = get_features1(path, file, columns=range(1,2), label=1)\n",
    "    X_a1_val.append(X_)\n",
    "    y_a1_val.append(y_)    "
   ]
  },
  {
   "cell_type": "code",
   "execution_count": 26,
   "metadata": {},
   "outputs": [],
   "source": [
    "X = []\n",
    "y = []\n",
    "X_val = []\n",
    "y_val = []\n",
    "for file in ('0D.csv', '1D.csv', '2D.csv', '3D.csv', '4D.csv'):\n",
    "    if file == '0D.csv':\n",
    "        X_,y_ = get_features1(path, file, label=0)\n",
    "    else:\n",
    "        X_,y_ = get_features1(path, file, label=1)\n",
    "    X.append(X_)\n",
    "    y.append(y_)\n",
    "        \n",
    "for file in ('0E.csv', '1E.csv', '2E.csv', '3E.csv', '4E.csv'):\n",
    "    if file == '0E.csv':\n",
    "        X_,y_ = get_features1(path, file,label=0)\n",
    "    else:\n",
    "        X_,y_ = get_features1(path, file,label=1)\n",
    "    X_val.append(X_)\n",
    "    y_val.append(y_) "
   ]
  },
  {
   "cell_type": "code",
   "execution_count": 70,
   "metadata": {},
   "outputs": [],
   "source": [
    "X_tsfresh = [X_0D, X_1D, X_2D, X_3D, X_4D]\n",
    "X_tsfresh_val = [X_0E, X_1E, X_2E, X_3E, X_4E]\n",
    "y_tsfresh = [np.zeros(X_0D.shape[0]), np.ones(X_1D.shape[0]), np.ones(X_2D.shape[0]),\n",
    "                 np.ones(X_3D.shape[0]), np.ones(X_4D.shape[0])]\n",
    "y_tsfresh_val = [np.zeros(X_0E.shape[0]), np.ones(X_1E.shape[0]), np.ones(X_2E.shape[0]),\n",
    "                  np.ones(X_3E.shape[0]), np.ones(X_4E.shape[0])]"
   ]
  },
  {
   "cell_type": "code",
   "execution_count": 78,
   "metadata": {
    "scrolled": true
   },
   "outputs": [],
   "source": [
    "if not use_reference_models:\n",
    "    best_params_minimal_a1 = []\n",
    "    best_params_minimal_all = []\n",
    "    best_params_tsfresh = []\n",
    "\n",
    "    for i in range(4):\n",
    "        X_a1_i = np.concatenate([X_a1[0], X_a1[i+1]])\n",
    "        y_a1_i = np.concatenate([y_a1[0], y_a1[i+1]])\n",
    "        X_a1_val_i = np.concatenate([X_a1_val[0], X_a1_val[i+1]])\n",
    "        y_a1_val_i = np.concatenate([y_a1_val[0], y_a1_val[i+1]])\n",
    "\n",
    "        X_i = np.concatenate([X[0], X[i+1]])\n",
    "        y_i = np.concatenate([y[0], y[i+1]])\n",
    "        X_val_i = np.concatenate([X_val[0], X_val[i+1]])\n",
    "        y_val_i = np.concatenate([y_val[0], y_val[i+1]])\n",
    "\n",
    "        X_tsfresh_i = np.concatenate([X_tsfresh[0], X_tsfresh[i+1]])\n",
    "        y_tsfresh_i = np.concatenate([y_tsfresh[0], y_tsfresh[i+1]])\n",
    "        X_tsfresh_val_i = np.concatenate([X_tsfresh_val[0], X_tsfresh_val[i+1]])\n",
    "        y_tsfresh_val_i = np.concatenate([y_tsfresh_val[0], y_tsfresh_val[i+1]])\n",
    "\n",
    "        model_rfc_a1 = sklearn.model_selection.GridSearchCV(\n",
    "            sklearn.ensemble.RandomForestClassifier(),\n",
    "            {'n_estimators': [30, 100, 300],\n",
    "             'max_depth': [10, 20],\n",
    "             'min_samples_leaf': [1]},\n",
    "            scoring='balanced_accuracy', verbose=100)\n",
    "\n",
    "        model_rfc = sklearn.model_selection.GridSearchCV(\n",
    "            sklearn.ensemble.RandomForestClassifier(),\n",
    "            {'n_estimators': [30, 100, 300],\n",
    "             'max_depth': [10, 20],\n",
    "             'min_samples_leaf': [1]},\n",
    "            scoring='balanced_accuracy', verbose=100)\n",
    "\n",
    "        model_tsfresh_rfc = sklearn.model_selection.GridSearchCV(\n",
    "            sklearn.ensemble.RandomForestClassifier(),\n",
    "            {'n_estimators': [30, 100, 300],\n",
    "             'max_depth': [10, 20],\n",
    "             'min_samples_leaf': [1]},\n",
    "            scoring='balanced_accuracy', verbose=100)\n",
    "\n",
    "        model_rfc_a1.fit(X_a1_i,y_a1_i)\n",
    "        print(model_rfc_a1.best_score_)\n",
    "        print(model_rfc_a1.best_params_)\n",
    "        best_params_minimal_a1.append(model_rfc_a1.best_params_)\n",
    "        print(\"Evaluation: \" + str(sklearn.metrics.accuracy_score(y_a1_val_i, model_rfc_a1.predict(X_a1_val_i))))\n",
    "        dump(model_rfc_a1, f'{model_path}/model_rfc_a1_pair_{i}.joblib') \n",
    "        model_rfc.fit(X_i,y_i)\n",
    "        print(model_rfc.best_score_)\n",
    "        print(model_rfc.best_params_)\n",
    "        best_params_minimal_all.append(model_rfc.best_params_)\n",
    "        print(\"Evaluation: \" + str(sklearn.metrics.accuracy_score(y_val_i, model_rfc.predict(X_val_i))))\n",
    "        dump(model_rfc, f'{model_path}/model_rfc_pair_{i}.joblib') \n",
    "        model_tsfresh_rfc.fit(X_tsfresh_i,y_tsfresh_i)\n",
    "        print(model_tsfresh_rfc.best_score_)\n",
    "        print(model_tsfresh_rfc.best_params_)\n",
    "        best_params_tsfresh.append(model_tsfresh_rfc.best_params_)\n",
    "        print(\"Evaluation: \" + str(sklearn.metrics.accuracy_score(y_tsfresh_val_i, model_tsfresh_rfc.predict(X_tsfresh_val_i))))\n",
    "        dump(model_tsfresh_rfc, f'{model_path}/model_tsfresh_rfc_pair_{i}.joblib')\n",
    "\n",
    "    print(best_params_minimal_a1)\n",
    "    print(best_params_minimal_all)\n",
    "    print(best_params_tsfresh)"
   ]
  },
  {
   "cell_type": "code",
   "execution_count": 80,
   "metadata": {},
   "outputs": [],
   "source": [
    "accuracies_ts_features = []\n",
    "for i in range(4):\n",
    "    model_rfc_a1 = load(f'{model_path}/model_rfc_a1_pair_{i}.joblib') \n",
    "    model_rfc = load(f'{model_path}/model_rfc_pair_{i}.joblib')\n",
    "    model_tsfresh_rfc = load(f'{model_path}/model_tsfresh_rfc_pair_{i}.joblib') \n",
    "    \n",
    "    X_a1_val_ = np.concatenate([X_a1_val[0], X_a1_val[i+1]])\n",
    "    y_a1_val_ = np.concatenate([y_a1_val[0], y_a1_val[i+1]])\n",
    "    \n",
    "    X_val_ = np.concatenate([X_val[0], X_val[i+1]])\n",
    "    y_val_ = np.concatenate([y_val[0], y_val[i+1]])\n",
    "    \n",
    "    X_tsfresh_val_ = np.concatenate([X_tsfresh_val[0], X_tsfresh_val[i+1]])\n",
    "    y_tsfresh_val_ = np.concatenate([y_tsfresh_val[0], y_tsfresh_val[i+1]])\n",
    "    \n",
    "    acc_rfc_a1 = sklearn.metrics.accuracy_score(y_a1_val_, model_rfc_a1.predict(X_a1_val_))\n",
    "    acc_rfc = sklearn.metrics.accuracy_score(y_val_, model_rfc.predict(X_val_))\n",
    "    acc_tsfresh_rfc = sklearn.metrics.accuracy_score(y_tsfresh_val_, model_tsfresh_rfc.predict(X_tsfresh_val_))\n",
    "    accuracies_ts_features.append([acc_rfc_a1, acc_rfc, acc_tsfresh_rfc])\n",
    "accuracies_ts_features = np.array(accuracies_ts_features)"
   ]
  },
  {
   "cell_type": "code",
   "execution_count": 81,
   "metadata": {},
   "outputs": [
    {
     "data": {
      "text/plain": [
       "array([[0.65599761, 0.62488783, 0.58719713],\n",
       "       [0.6262354 , 0.63012878, 0.66007787],\n",
       "       [0.70137642, 0.88779174, 0.9700778 ],\n",
       "       [0.99880419, 0.99880419, 1.        ]])"
      ]
     },
     "execution_count": 81,
     "metadata": {},
     "output_type": "execute_result"
    }
   ],
   "source": [
    "accuracies_ts_features"
   ]
  },
  {
   "cell_type": "code",
   "execution_count": 82,
   "metadata": {},
   "outputs": [
    {
     "data": {
      "text/plain": [
       "array([0.7456034 , 0.78540313, 0.8043382 ])"
      ]
     },
     "execution_count": 82,
     "metadata": {},
     "output_type": "execute_result"
    }
   ],
   "source": [
    "np.mean(accuracies_ts_features, axis=0)"
   ]
  },
  {
   "cell_type": "code",
   "execution_count": 83,
   "metadata": {},
   "outputs": [
    {
     "data": {
      "image/png": "[encoded data removed]",
      "text/plain": [
       "<Figure size 432x288 with 1 Axes>"
      ]
     },
     "metadata": {
      "needs_background": "light"
     },
     "output_type": "display_data"
    }
   ],
   "source": [
    "fig=plt.figure()\n",
    "ax1=plt.subplot(111, title = \"Pairwise Unbalance Classification\")\n",
    "unbalances = np.array([0, 4.59e-5, 6.07e-5,7.55e-5,1.521e-4])\n",
    "ax1.plot(1e6*unbalances[1:], accuracies_ts_features[:,0], \n",
    "         label=\"Minimal, Vibration_1, mean: 74,9%\", marker=\"+\", ls=\"--\")\n",
    "ax1.plot(1e6*unbalances[1:], accuracies_ts_features[:,1], \n",
    "         label=\"Minimal, all sensors, mean: 78,2%\", marker=\"+\", ls=\"--\")\n",
    "ax1.plot(1e6*unbalances[1:], accuracies_ts_features[:,2], \n",
    "         label=\"tsfresh: Vibration_1, mean: 79,9%\", marker=\"+\", ls=\"--\")\n",
    "plt.ylabel(\"Accuracy on Evaluation Dataset\")\n",
    "plt.xlabel(\"Unbalance Factor [mm g]\")\n",
    "plt.legend()\n",
    "plt.tight_layout()\n",
    "plt.show()"
   ]
  },
  {
   "cell_type": "code",
   "execution_count": null,
   "metadata": {},
   "outputs": [],
   "source": []
  }
 ],
 "metadata": {
  "kernelspec": {
   "display_name": "Python 3",
   "language": "python",
   "name": "python3"
  },
  "language_info": {
   "codemirror_mode": {
    "name": "ipython",
    "version": 3
   },
   "file_extension": ".py",
   "mimetype": "text/x-python",
   "name": "python",
   "nbconvert_exporter": "python",
   "pygments_lexer": "ipython3",
   "version": "3.7.7"
  }
 },
 "nbformat": 4,
 "nbformat_minor": 4
}
